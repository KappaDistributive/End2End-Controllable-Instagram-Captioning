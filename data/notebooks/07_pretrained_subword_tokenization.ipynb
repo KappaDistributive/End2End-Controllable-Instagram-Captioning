{
 "cells": [
  {
   "cell_type": "markdown",
   "metadata": {},
   "source": [
    "### REFERENCE\n",
    "1. Source code for AddedTokens: https://github.com/huggingface/tokenizers/blob/master/tokenizers/src/tokenizer/added_vocabulary.rs"
   ]
  },
  {
   "cell_type": "code",
   "execution_count": 1,
   "metadata": {},
   "outputs": [],
   "source": [
    "import os\n",
    "import json\n",
    "import re\n",
    "from collections import defaultdict, Counter\n",
    "from multiprocessing import Pool\n",
    "\n",
    "from tqdm import tqdm\n",
    "import numpy as np\n",
    "import pandas as pd\n",
    "import matplotlib.pyplot as plt\n",
    "import emoji\n",
    "\n",
    "\n",
    "%matplotlib inline\n",
    "%load_ext autoreload\n",
    "%autoreload 2"
   ]
  },
  {
   "cell_type": "code",
   "execution_count": 2,
   "metadata": {},
   "outputs": [],
   "source": [
    "JSON_PATH = '../../data/instagram/json/insta-caption-train.json'"
   ]
  },
  {
   "cell_type": "code",
   "execution_count": 3,
   "metadata": {},
   "outputs": [],
   "source": [
    "from transformers import XLNetTokenizer\n",
    "tokenizer = XLNetTokenizer.from_pretrained('xlnet-base-cased')"
   ]
  },
  {
   "cell_type": "code",
   "execution_count": 4,
   "metadata": {},
   "outputs": [
    {
     "data": {
      "text/plain": [
       "['▁This', '▁is', '▁an', '▁order', '!', '▁Understand', '@', '?']"
      ]
     },
     "execution_count": 4,
     "metadata": {},
     "output_type": "execute_result"
    }
   ],
   "source": [
    "test = 'This is an order! Understand@?'\n",
    "\n",
    "out = tokenizer.tokenize(test)\n",
    "out"
   ]
  },
  {
   "cell_type": "code",
   "execution_count": 5,
   "metadata": {},
   "outputs": [
    {
     "name": "stdout",
     "output_type": "stream",
     "text": [
      "['▁This', '▁is', '▁so', '▁awesome', '!!', '@', 'user', 'name', '!']\n",
      "[122, 27, 102, 8729, 7675, 13304, 14401, 6723, 136]\n",
      "This is so awesome!!@username!\n"
     ]
    }
   ],
   "source": [
    "test = 'This is so awesome!!@username!'\n",
    "out = tokenizer.tokenize(test)\n",
    "enc = tokenizer.encode(test, add_special_tokens = False)\n",
    "dec = tokenizer.decode(enc)\n",
    "\n",
    "print(out)\n",
    "print(enc)\n",
    "print(dec)"
   ]
  },
  {
   "cell_type": "code",
   "execution_count": 6,
   "metadata": {},
   "outputs": [],
   "source": [
    "from tokenizers import AddedToken\n",
    "new_tokens = AddedToken(\n",
    "    '@username', single_word = True, \n",
    "    lstrip = False, rstrip = True\n",
    ")"
   ]
  },
  {
   "cell_type": "code",
   "execution_count": 7,
   "metadata": {},
   "outputs": [
    {
     "name": "stdout",
     "output_type": "stream",
     "text": [
      "['▁This', '▁is', '▁so', '▁awesome', '!!', '@username', '▁', '!']\n",
      "[122, 27, 102, 8729, 7675, 32000, 17, 136]\n",
      "This is so awesome!! @username!\n"
     ]
    }
   ],
   "source": [
    "tokenizer.add_tokens(new_tokens)\n",
    "\n",
    "out = tokenizer.tokenize(test)\n",
    "enc = tokenizer.encode(test, add_special_tokens = False)\n",
    "dec = tokenizer.decode(enc)\n",
    "\n",
    "print(out)\n",
    "print(enc)\n",
    "print(dec)"
   ]
  },
  {
   "cell_type": "code",
   "execution_count": 12,
   "metadata": {},
   "outputs": [
    {
     "data": {
      "text/plain": [
       "['▁we', '▁are', 'w']"
      ]
     },
     "execution_count": 12,
     "metadata": {},
     "output_type": "execute_result"
    }
   ],
   "source": [
    "tokenizer.tokenize('we arew')"
   ]
  },
  {
   "cell_type": "code",
   "execution_count": null,
   "metadata": {},
   "outputs": [],
   "source": []
  }
 ],
 "metadata": {
  "kernelspec": {
   "display_name": "Python 3",
   "language": "python",
   "name": "python3"
  },
  "language_info": {
   "codemirror_mode": {
    "name": "ipython",
    "version": 3
   },
   "file_extension": ".py",
   "mimetype": "text/x-python",
   "name": "python",
   "nbconvert_exporter": "python",
   "pygments_lexer": "ipython3",
   "version": "3.7.7"
  }
 },
 "nbformat": 4,
 "nbformat_minor": 4
}
