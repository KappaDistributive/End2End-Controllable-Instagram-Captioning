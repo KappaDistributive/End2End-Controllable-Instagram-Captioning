{
 "cells": [
  {
   "cell_type": "markdown",
   "metadata": {},
   "source": [
    "### SUMMARY\n",
    "look into training set raw captions text:\n",
    "1. check how many captions have emoji **(emoji)**\n",
    "2. how many have username mentioned\n",
    "3. how many mixed with hashtag i.e. word prefixed with #\n",
    "4. see if name entity detection work **(huggingface)**\n",
    "5. catch mis-spelled word **(spacy + hunspell)**\n",
    "\n",
    "### REFERENCE\n",
    "1. Name entity extraction (huggingface): https://huggingface.co/transformers/usage.html\n",
    "2. Handle mis-spelled words: https://github.com/tokestermw/spacy_hunspell\n",
    "3. Training a sentiment model: https://github.com/bentrevett/pytorch-sentiment-analysis\n",
    "4. List of available models for all tasks: https://huggingface.co/models?filter=text-classification\n",
    "5. How to use huggingface's pipeline for NER/ sentiment analysis: https://huggingface.co/transformers/main_classes/pipelines.html\n",
    "6. NER: \n",
    "    - available arguments: https://huggingface.co/transformers/main_classes/pipelines.html#transformers.TokenClassificationPipeline\n",
    "7. sentiment classifier: \n",
    "    - available arguments: https://huggingface.co/transformers/main_classes/pipelines.html#textclassificationpipeline\n",
    "    - candidate model 1: https://huggingface.co/vicd/sentiment?text=Why+does+she+give+me+those+puppy+eyes+%3A%28+%F0%9F%91%80%F0%9F%90%B6\n",
    "    - candidate model 2: https://huggingface.co/amine/multilingual_sentiment_vocab20k?text=Why+does+she+give+me+those+puppy+eyes+%3A%28+%F0%9F%91%80%F0%9F%90%B6\n",
    "    - Kaggle: twitter sentiment competition: https://www.kaggle.com/c/tweet-sentiment-extraction\n",
    "    - Kaggle: pretrained sentiment model pretrained on 1.6 million Twitter dataset: https://www.kaggle.com/paoloripamonti/twitter-sentiment-analysis\n",
    " "
   ]
  },
  {
   "cell_type": "code",
   "execution_count": 1,
   "metadata": {},
   "outputs": [],
   "source": [
    "import os\n",
    "import json\n",
    "import re\n",
    "from collections import defaultdict, Counter\n",
    "from multiprocessing import Pool\n",
    "\n",
    "from tqdm import tqdm\n",
    "import numpy as np\n",
    "import pandas as pd\n",
    "import matplotlib.pyplot as plt\n",
    "import emoji\n",
    "\n",
    "%matplotlib inline\n",
    "%load_ext autoreload\n",
    "%autoreload 2"
   ]
  },
  {
   "cell_type": "code",
   "execution_count": 2,
   "metadata": {},
   "outputs": [
    {
     "data": {
      "text/plain": [
       "648761"
      ]
     },
     "execution_count": 2,
     "metadata": {},
     "output_type": "execute_result"
    }
   ],
   "source": [
    "JSON_PATH = '../../data/instagram/json/insta-caption-train.json'\n",
    "\n",
    "with open(JSON_PATH, 'r') as f:\n",
    "    data = json.load(f)\n",
    "    \n",
    "captions = dict()\n",
    "for usr, usr_dict in data.items():\n",
    "    for post, post_dict in usr_dict.items():\n",
    "        id_key = f'{usr}_@_{post}'\n",
    "        caption = post_dict['caption'].strip()\n",
    "        captions[id_key] = caption\n",
    "        \n",
    "len(captions)"
   ]
  },
  {
   "cell_type": "markdown",
   "metadata": {},
   "source": [
    "### 1. How many captions have emoji?\n",
    "Caveat:\n",
    "- treat :))))) --> :)"
   ]
  },
  {
   "cell_type": "code",
   "execution_count": 3,
   "metadata": {},
   "outputs": [],
   "source": [
    "def is_emoji(text):\n",
    "    boo = False\n",
    "    for c in text:\n",
    "        if c in emoji.UNICODE_EMOJI: boo = True\n",
    "    return boo"
   ]
  },
  {
   "cell_type": "code",
   "execution_count": 4,
   "metadata": {},
   "outputs": [
    {
     "name": "stdout",
     "output_type": "stream",
     "text": [
      "Best part of the day 🍹\n",
      "I wouldn't be where I am today🙏🏽\n",
      "Took Blackgirl out for a drive today but this wind is real disrespectful ☀️☀️\n",
      "Shop with us and add some ✨Bliss✨to your life\n",
      "Happy Thanksgiving! Hope everyone is having a ✨Blissful✨ Holiday.\n",
      "\n",
      "caption with emoji: 109013 (648761)\n"
     ]
    }
   ],
   "source": [
    "emoji_cnt = 0\n",
    "instance_n = 5\n",
    "\n",
    "for _, caption in captions.items():\n",
    "    if is_emoji(caption): \n",
    "        emoji_cnt += 1\n",
    "        if instance_n != 0:\n",
    "            print(caption)\n",
    "            instance_n -= 1\n",
    "\n",
    "print(f'\\ncaption with emoji: {emoji_cnt} ({len(captions)})')"
   ]
  },
  {
   "cell_type": "code",
   "execution_count": 5,
   "metadata": {},
   "outputs": [],
   "source": [
    "def is_target_face(text):\n",
    "    boo = False\n",
    "    if (\":)\" in text) or (\":(\" in text):\n",
    "        boo = True\n",
    "    return boo"
   ]
  },
  {
   "cell_type": "code",
   "execution_count": 6,
   "metadata": {},
   "outputs": [
    {
     "name": "stdout",
     "output_type": "stream",
     "text": [
      "Why does she give me those puppy eyes :( 👀🐶\n",
      "Going to see ze babies:)\n",
      "Why do my TWO FAVORITE shows have their season opening at the same time:(\n",
      "I get to make these all day at work:)))\n",
      "Melissa's gender reveal was a success!! So glad everything turned out nicely:) #ItsAGirl\n",
      "\n",
      "caption with emoji: 18755 (648761)\n"
     ]
    }
   ],
   "source": [
    "face_cnt = 0\n",
    "instance_n = 5\n",
    "\n",
    "for _, caption in captions.items():\n",
    "    if is_target_face(caption): \n",
    "        face_cnt += 1\n",
    "        if instance_n != 0:\n",
    "            print(caption)\n",
    "            instance_n -= 1\n",
    "\n",
    "print(f'\\ncaption with emoji: {face_cnt} ({len(captions)})')"
   ]
  },
  {
   "cell_type": "markdown",
   "metadata": {},
   "source": [
    "### 2. How many have username mention?"
   ]
  },
  {
   "cell_type": "code",
   "execution_count": 7,
   "metadata": {},
   "outputs": [
    {
     "data": {
      "text/plain": [
       "['@riven_hong.asdas-314']"
      ]
     },
     "execution_count": 7,
     "metadata": {},
     "output_type": "execute_result"
    }
   ],
   "source": [
    "re.findall(r'@[\\S]+', '@riven_hong.asdas-314 hi world')"
   ]
  },
  {
   "cell_type": "code",
   "execution_count": 8,
   "metadata": {},
   "outputs": [],
   "source": [
    "def is_username(text):\n",
    "    pattern = re.findall(r'@[\\S]+', text)\n",
    "    if len(pattern) != 0:\n",
    "        return True\n",
    "    else:\n",
    "        return False"
   ]
  },
  {
   "cell_type": "code",
   "execution_count": 9,
   "metadata": {},
   "outputs": [
    {
     "name": "stdout",
     "output_type": "stream",
     "text": [
      "Bob life and loving it @crimsonsfi9est\n",
      "Shop @blissboutiquear for this top also come in white\n",
      "You killed this look @mz_marvelous_dr\n",
      "Beauty @7jessicasally rocking Bliss very well.\n",
      "My crew tonight minus @kinkykurlydiva she was swiping those cards!  Everything Blis\n",
      "\n",
      "caption with user name: 36034 (648761)\n"
     ]
    }
   ],
   "source": [
    "username_cnt = 0\n",
    "instance_n = 5\n",
    "\n",
    "for _, caption in captions.items():\n",
    "    if is_username(caption): \n",
    "        username_cnt += 1\n",
    "        if instance_n != 0:\n",
    "            print(caption)\n",
    "            instance_n -= 1\n",
    "\n",
    "print(f'\\ncaption with user name: {username_cnt} ({len(captions)})')"
   ]
  },
  {
   "cell_type": "markdown",
   "metadata": {},
   "source": [
    "### 3a. How many mixed with hashtag? "
   ]
  },
  {
   "cell_type": "code",
   "execution_count": 10,
   "metadata": {},
   "outputs": [],
   "source": [
    "def capture_hashtag(text):\n",
    "    pattern = re.findall(r'#[\\S]+', text)\n",
    "    if len(pattern) != 0:\n",
    "        return pattern\n",
    "    else:\n",
    "        return None"
   ]
  },
  {
   "cell_type": "code",
   "execution_count": 20,
   "metadata": {
    "scrolled": true
   },
   "outputs": [
    {
     "name": "stdout",
     "output_type": "stream",
     "text": [
      "I'm going to get it one day. #selfie game\n",
      "Mood: Feeling so grateful today and wanted to put some cuteness on your timeline #Journee'\n",
      "My new friend at vista! #treelizard\n",
      "My beautiful niece a year ago and then yesterday. #loveher\n",
      "This is how I like to sit at work. #relaxed\n",
      "It was that kind of day. #tired\n",
      "Listen to the saying! Do it. #texasgirl\n",
      "The face of a natural born killer. #problems #longmorning\n",
      "Ladies cross their legs, even at 1800+ feet high. #classy\n",
      "Thanks to my Aunt Eleanor in Boston for this awesome #cowboys bracelet!!\n",
      "Literally forgot I asked her to call me that haha. #night\n",
      "The man who made this trip happen and made me happen lol. #mydad\n",
      "For real! #repost\n",
      "Had to #repost! This made me and @meliarlene laugh!\n",
      "20 years ago at the Oscars. #crazy.\n",
      "#SafeSets ready for domination this season!\n",
      "Got use out of my puffer jacket today. #cold #sick #work\n",
      "All these years and I thought that space was meant for motorcycles. #sillyme\n",
      "You live by your own perception. #quoteoftheday\n",
      "#tbt my baby years. I used to smile 😜\n",
      "Bar hopping, but without alcohol. Just hopping around. #rabbit\n",
      "This is how I'll spend the rest of the evening. #killme #whyisthishappening\n",
      "Softball is back for another season - game one is a win! #juggernots\n",
      "A dance-filled night out with this loser was fun! #dancing #countrymusic #friends\n",
      "I suppose downtown #utsa is nice. Much quieter, that's for sure.\n",
      "Lays her head on a toy and stays for hours. #lazydog\n",
      "If he says it's bedtime, then it must be bedtime! #night\n",
      "10 pounds down. Feeling even greater than I could imagine. #work #health #weightwatchers\n",
      "I can't contain myself...#prettylittleliars\n",
      "I love my team! #softball\n",
      "I'll always keep you close to me Baybay. #imissyou\n",
      "For a family that doesn't drink, we have a lot of alcohol. #noteventempted\n",
      "Optimus got a nice cleaning inside and out today. #HeLovesMe\n",
      "OMG!! My secret Santa got me the prettiest jewelry box! #work\n",
      "So glad to have met these amazing people!! #volleyball #dancing #friends\n",
      "Can't wait!! Love #storms\n",
      "SPLISH SPLASH. oh and the rare flooding I'm stuck in lol. #work\n",
      "That's right. I bought 700+worth in clothes and only that much. #lovemyjob\n",
      "This quote could be taken very differently...#sexual\n",
      "Can't wait to get this bad boy installed! Thanks Apple!!! #appeasement\n",
      "Love me some @prithy6  #bowling\n",
      "Last book of the trilogy!! #doesithavetoend\n",
      "My baby girl is almost ready for her birthday tomorrow!!! #princess #shehatesme\n",
      "I seriously have the best mom💙 can't wait for our ski trip! #Brightonjewelry\n",
      "She knows I'm sick and won't leave my sight. #dogowner #bond\n",
      "Sometimes these horoscopes scare me by how dead on they are. #creepy #getoutofmyhead\n",
      "#tbt #throwbackthursday my little monster and I. She's still just as crazy.\n",
      "Trying to write a paper, while #harrypotter is on. Never easy.\n",
      "Melissa's gender reveal was a success!! So glad everything turned out nicely:) #ItsAGirl\n",
      "HOW BOUT THEM #COWBOYS!\n",
      "OH MY GOD. #orgasm\n",
      "My nails are PRETTTY much perfect for my interview today. #manicure #shellac\n",
      "My face after buying #CatchingFire tickets!!!\n",
      "Can't thank Ramon enough for taking such great photos - super happy! #UTSA #graduating\n",
      "My mini banana next to my mini mouse at work. #mini\n",
      "Happy National Best Friend Day! Gosh, I love her! #twins\n",
      "Had to get a photo with #bumblebee!!! And we were pretty wasted hahah.\n",
      "New haircut calls for a picture! I love Melissa's hair!!! #stylists #morningcrew\n",
      "Trying on clothes at work. #fun\n",
      "Snow is so pretty. Such a gorgeous day today in #breckenridge!\n",
      "Spending time with my lovely niece. #mostbeautifullittlegirl\n",
      "#vegas can I go back already?\n",
      "My new best friend for the next month. #exercise #gottastartsomewhere\n",
      "Happy Holidays from Target's lovely team leaders to you! #wehavefun #working #holidays\n",
      "Dead doggy. #cookie\n",
      "Craziest lady in town and I happen to work with her. #loveher @tiffspliffington\n",
      "Let's go #cowboys!!!!!\n",
      "The first strawberry out of the #garden was delicious!\n",
      "Waves crashing on the #chicago shore.\n",
      "Scouting for this weekends wedding! I'm loving this angle on the #chicago #skyline.\n",
      "This dog is ready. #puppy #adventure\n",
      "More from the #garden!\n",
      "This was almost the best day ever, but then bath time happened #vscocam #saddog\n",
      "Prepping some ramps for a grill filled weekend! #vscocam #food\n",
      "Keeping the back porch safe one bark at a time. #angry #puppy\n",
      "Mistake #1 today - chili dog breakfast\n",
      "Practicing the vows on the way to the ceremony. #nelsonnelsonwedding\n",
      "Don't think we forgot yesterday was #WorldCatDay...\n",
      "I'd give anything to be this hand right now #howheasked\n",
      "HAD to zoom in on this stunning @gabrielandco ring.... #omgYES\n",
      "huge thank you to @singlestoneLA for always giving us our favorite eye candy #stackmeplease\n",
      "The couple who figured it out is kissing #thatsawesome\n",
      "A lovely little pick me up on a yucky day in #nyc\n",
      "First time he's seeing his bride #iwantthis (photo by @jessicabrea)\n",
      "How cool is this #vintage book page I found? That's totally a proposal.\n",
      "This is why I want to learn to #surf\n",
      "This is what happens when 12 year old girls help a man propose ... #cuteness\n",
      "She knows what's about to happen!!!!!! #nationalproposalday\n",
      "#DearFutureHusband please have all my friends & family surprise me after you propose like this...\n",
      "Happy #NationalDogDay! Every man should teach his dog this trick.\n",
      "#dearfuturehusband this sort of proposal works just fine 🐶💍\n",
      "(lucky girl: @karlierae)\n",
      "Let's play #icebucketchallenge. Nominate three friends to wear this engagement ring (one day).\n",
      "We are shipping everything to Orlando!!!\n",
      "#edcorlando here we come!\n",
      "How my kids like to go grocery shopping! \n",
      "#onsieswag \n",
      "#onsie\n",
      "Do I look like I could pass for a tribal chief? \n",
      "#auditiontime\n",
      "Complete Burger, resting on a bed of baby spinach and kale.\n",
      "#burgertime \n",
      "#sundaycooking\n",
      "You know who you are!!!\n",
      "#findthehumor\n",
      "Ice Cream date with Dad!\n",
      "#mcconnellsicecream\n",
      "Riding in the production truck like a Boss!\n",
      "#kidboss\n",
      "#fathersontime\n",
      "It's so yellow right now.....\n",
      "#sunset \n",
      "#sunsets\n",
      "\n",
      "caption with hashtag: 124099 (648761)\n"
     ]
    }
   ],
   "source": [
    "hashtag_cnt = 0\n",
    "hashtag_set = Counter()\n",
    "instance_n = 100\n",
    "\n",
    "for _, caption in captions.items():\n",
    "    hashtags = capture_hashtag(caption)\n",
    "    \n",
    "    if hashtags is not None:    \n",
    "        hashtag_set.update(hashtags)\n",
    "        \n",
    "        hashtag_cnt += 1\n",
    "        if instance_n != 0:\n",
    "            print(caption)\n",
    "            instance_n -= 1\n",
    "\n",
    "print(f'\\ncaption with hashtag: {hashtag_cnt} ({len(captions)})')"
   ]
  },
  {
   "cell_type": "markdown",
   "metadata": {},
   "source": [
    "### 3c. How many caption have residual word after hashtag? \n",
    "e.g. \"I like chocolate! #teatime coffe like\""
   ]
  },
  {
   "cell_type": "code",
   "execution_count": 12,
   "metadata": {},
   "outputs": [],
   "source": [
    "test1 = \"I'm going to get it one day. #selfie game\"\n",
    "test2 = \"I'm going to get it one day. #selfie game\""
   ]
  },
  {
   "cell_type": "code",
   "execution_count": null,
   "metadata": {},
   "outputs": [],
   "source": [
    "re.parti"
   ]
  },
  {
   "cell_type": "code",
   "execution_count": 18,
   "metadata": {},
   "outputs": [
    {
     "data": {
      "text/plain": [
       "[\"I'm going to get it one day. \", '#selfie', ' game']"
      ]
     },
     "execution_count": 18,
     "metadata": {},
     "output_type": "execute_result"
    }
   ],
   "source": [
    "\n",
    "re.split(r'(#[\\S]+)', test, 0)"
   ]
  },
  {
   "cell_type": "markdown",
   "metadata": {},
   "source": [
    "### 3b. Distribution of hashtags?"
   ]
  },
  {
   "cell_type": "code",
   "execution_count": 84,
   "metadata": {
    "scrolled": true
   },
   "outputs": [
    {
     "data": {
      "image/png": "[encoded data removed]",
      "text/plain": [
       "<Figure size 1152x288 with 1 Axes>"
      ]
     },
     "metadata": {
      "needs_background": "light"
     },
     "output_type": "display_data"
    }
   ],
   "source": [
    "sorted_tup = sorted(list(hashtag_set.items()), key = lambda x: x[1], reverse = True)[:50]\n",
    "\n",
    "hashtag_ls, cnt_ls = map(list, zip(*sorted_tup))\n",
    "\n",
    "fig, ax = plt.subplots(1, figsize = (16, 4))\n",
    "ax.bar(hashtag_ls, cnt_ls)\n",
    "ax.set_xticklabels(labels = hashtag_ls, rotation = 90);"
   ]
  },
  {
   "cell_type": "markdown",
   "metadata": {},
   "source": [
    "### 4. Name Entity Detection (Person Name)?\n",
    "select a good tokenizer and pretrained model"
   ]
  },
  {
   "cell_type": "code",
   "execution_count": 139,
   "metadata": {},
   "outputs": [],
   "source": [
    "from transformers import pipeline\n",
    "nlp = pipeline(\"ner\", device = 0)"
   ]
  },
  {
   "cell_type": "code",
   "execution_count": 115,
   "metadata": {},
   "outputs": [],
   "source": [
    "def capture_person_name(caption_tup):\n",
    "    id_key, caption = caption_tup\n",
    "    print(f'processing: {id_key}')\n",
    "    out = nlp(caption)\n",
    "    if len(out) != 0 and (out[0]['entity'] == 'I-PER' or out[0]['entity'] == 'B-PER'):\n",
    "        ner_ls = [d['word'] for d in out]\n",
    "        return (id_key, ner_ls)\n",
    "    else:\n",
    "        return None"
   ]
  },
  {
   "cell_type": "code",
   "execution_count": 122,
   "metadata": {},
   "outputs": [],
   "source": [
    "caption_key, caption_txt = zip(*captions.items())\n",
    "\n",
    "assert len(caption_key) == len(caption_txt)"
   ]
  },
  {
   "cell_type": "code",
   "execution_count": 142,
   "metadata": {},
   "outputs": [],
   "source": [
    "test_docs = list(caption_txt)[:100]"
   ]
  },
  {
   "cell_type": "code",
   "execution_count": 143,
   "metadata": {},
   "outputs": [
    {
     "name": "stdout",
     "output_type": "stream",
     "text": [
      "1.51 s ± 39.9 ms per loop (mean ± std. dev. of 7 runs, 1 loop each)\n"
     ]
    }
   ],
   "source": [
    "%timeit ner_outs = nlp(test_docs)\n",
    "#ner_tup = [(id_key, ner_ls) for id_key, ner_ls in zip(caption_key, ner_outputs)]"
   ]
  },
  {
   "cell_type": "code",
   "execution_count": 146,
   "metadata": {},
   "outputs": [
    {
     "data": {
      "text/plain": [
       "2.5166666666666666"
      ]
     },
     "execution_count": 146,
     "metadata": {},
     "output_type": "execute_result"
    }
   ],
   "source": [
    "((1.51 / 100) * 600000) / 3600"
   ]
  },
  {
   "cell_type": "markdown",
   "metadata": {},
   "source": [
    "### 5. Sentiment Detection\n",
    "select a good tokenizer and good pretrained model\n",
    "\n",
    "**Candidate**\n",
    "- https://huggingface.co/vicd/sentiment?text=Fix+it+please%21\n",
    "- https://huggingface.co/amine/multilingual_sentiment_vocab20k?text=Fix+it+please%21"
   ]
  },
  {
   "cell_type": "code",
   "execution_count": 136,
   "metadata": {},
   "outputs": [],
   "source": [
    "senti_nlp = pipeline('sentiment-analysis', device = 0)"
   ]
  },
  {
   "cell_type": "code",
   "execution_count": 147,
   "metadata": {},
   "outputs": [
    {
     "data": {
      "text/plain": [
       "(\"I'm way up I feel Bless.\",\n",
       " 'About to bleed the block for a second',\n",
       " 'Aztec dress will be available tomorrow and added to the site',\n",
       " 'Both Black and White are now available for ordering',\n",
       " 'Date Night with Bae! Rocking \"Treasure\" only 1 available on site',\n",
       " 'Bob life and loving it @crimsonsfi9est',\n",
       " 'Grey joggers also added to the site',\n",
       " \"Jumpsuit heaven! Can't wait for Vegas\",\n",
       " 'Over size Denim Shirt will be available next week',\n",
       " 'Shop site for new arrivals',\n",
       " 'New arrivals have been added to the site',\n",
       " 'Today was a good day I must say! More sales to come stay tune',\n",
       " 'Shop @blissboutiquear for this top also come in white',\n",
       " 'You killed this look @mz_marvelous_dr',\n",
       " 'She holds me down. My big baby',\n",
       " '\"Comfy\" type of day',\n",
       " 'Hammer Hammer I am! Late post! Sorry ladies both colors are sold out',\n",
       " 'About to get food. I will smile once I eat!',\n",
       " 'My baby girl rocking her Bermuda from Bliss!! My Minnie me',\n",
       " 'Fix it please!',\n",
       " 'Beauty @7jessicasally rocking Bliss very well.',\n",
       " 'Best part of the day 🍹',\n",
       " 'New Denim jumpsuit will be available next week! S M L',\n",
       " 'Jumpsuit comes in Olive Only',\n",
       " 'Slit joggers added to site. Killin it top still available',\n",
       " 'Shop Small Business Saturday! Cap Cardigan has been added to the site',\n",
       " 'Limited sizes left ladies for a great price. Both Rust and Black available',\n",
       " '2-piece will be available Friday in Royal Blue only',\n",
       " 'Family First. Me and my sissy Blissing on this Thanksgivings',\n",
       " \"Today will be a good day because I'm Blessed and Blissed\",\n",
       " \"Help me pick a color ladies. I'm thinking White!\",\n",
       " 'Loving fall already',\n",
       " 'My crew tonight minus @kinkykurlydiva she was swiping those cards!  Everything Blis',\n",
       " '@1_in_a_milli rocking Jersey with class. Thanks Doll for supporting',\n",
       " 'Site has been updated with new arrivals',\n",
       " 'All available on site in size Medium. Link in Bio',\n",
       " \"I wouldn't be where I am today🙏🏽\",\n",
       " 'Mood today! (Business)',\n",
       " 'Getting in the Holiday spirit',\n",
       " 'Restocking next week ladies. Be on the look out',\n",
       " 'Having a great time at @Bdonnas fashion show with @hustlenheels2_',\n",
       " \"It's hot tho!!!\",\n",
       " '\"Back it up\" will be available this week for s great price',\n",
       " 'Taste the rainbow is available for ordering',\n",
       " 'Coming next week in Dark Denim',\n",
       " 'Top and Skirt available next week',\n",
       " 'Took Blackgirl out for a drive today but this wind is real disrespectful ☀️☀️',\n",
       " 'Bliss Alert. Had a nice time last night celebrating! Feeling it today',\n",
       " \"I'm going to get it one day. #selfie game\",\n",
       " 'Both Maxi Dresses have been uploaded to the site.',\n",
       " 'Just admiring. Carry on',\n",
       " 'Shop the site for these pants',\n",
       " 'Happy Halloween! Are your Tricking or Treating today?',\n",
       " 'Blessed and Blissed',\n",
       " 'New arrivals this week',\n",
       " 'What a Blissful night with my love',\n",
       " \"Did yall miss out on peek a boo?  It's coming back! Stay tune\",\n",
       " \"Monday's are the busiest day to grind and boy was I tired today\",\n",
       " 'Thanks @crimsonsfi9est for my silk out today and @blissboutiquear for this dress',\n",
       " 'Shop with us and add some ✨Bliss✨to your life',\n",
       " 'Also a newbie that will be added to the site tonight',\n",
       " 'Say Please!  Order \"Taste the Rainbow\" now ladies',\n",
       " 'Wedding flow today in \"Amber\". Only 1 available in stock! Link in Bio',\n",
       " 'Word! On that note new arrivals will hit the site tonight',\n",
       " \"It's available now for ordering!\",\n",
       " 'New Arrival this week! Paired with any color pump',\n",
       " 'A Blessed and Happy woman!  Hope everyone is enjoying their day.',\n",
       " 'Available for purchase. Size S M L',\n",
       " 'Love this peplum top. Order it now while supplies last',\n",
       " 'Available for ordering',\n",
       " 'Gone with the wind',\n",
       " 'Me and my Nubian princess',\n",
       " 'Rocking @amourshoetique today. Ladies follow for dope shoes and T-Shirt',\n",
       " 'Word up!',\n",
       " 'Added to site',\n",
       " 'Sitting pretty in Bliss. Loving my Chanel Brooch from @theb11_boutique_',\n",
       " \"I'm woke and ready\",\n",
       " 'Shop @blissboutiquear and add some Bliss to your life',\n",
       " 'Also available in Black',\n",
       " 'Happy Thanksgiving! Hope everyone is having a ✨Blissful✨ Holiday.',\n",
       " 'Updated to site',\n",
       " 'What a ✨Blissful✨ weekend my dolls had',\n",
       " 'Available now for purchase in Aqua only! S M L',\n",
       " 'On my special day with my special person👫💝',\n",
       " 'Added to the site ladies! Shop this look now you will not be disappointed',\n",
       " 'Correction Neon Yellow and White will be the colors available',\n",
       " '1 small \"wind blowing\" available on site! Oh and this cute sandals from @heelstotoe',\n",
       " 'Double Take will be available this week.',\n",
       " '@heelstotoe rocking \"Take me Out\"! Thanks for your continued love and support',\n",
       " '✨New Item Alert✨ S M L available for ordering tomorrow',\n",
       " 'Next weeks arrivals',\n",
       " 'Pair this tub top dress with your favorite color pump',\n",
       " 'Sale Item of the day! Shop the site for this amazing vest!',\n",
       " 'Last work day for the week smile! Much Much needed',\n",
       " 'Outside feeling the breeze! Happy Sunday Everyone',\n",
       " 'Pretty much sums it up. Cheers to the weekend ladies 🍸🍹🍷',\n",
       " 'Top still available on site. Click link in Bio',\n",
       " 'The start of a good day',\n",
       " \"When my customers call. I'm on the way\",\n",
       " 'Just in time for your Holiday & New Years Eve activities.')"
      ]
     },
     "execution_count": 147,
     "metadata": {},
     "output_type": "execute_result"
    }
   ],
   "source": [
    "caption_txt[:100]"
   ]
  },
  {
   "cell_type": "code",
   "execution_count": 148,
   "metadata": {},
   "outputs": [
    {
     "data": {
      "text/plain": [
       "[{'label': 'POSITIVE', 'score': 0.9461995959281921}]"
      ]
     },
     "execution_count": 148,
     "metadata": {},
     "output_type": "execute_result"
    }
   ],
   "source": [
    "test_docs = 'Fix it please!'\n",
    "senti_nlp(test_docs)"
   ]
  },
  {
   "cell_type": "code",
   "execution_count": null,
   "metadata": {},
   "outputs": [],
   "source": []
  }
 ],
 "metadata": {
  "kernelspec": {
   "display_name": "Python 3",
   "language": "python",
   "name": "python3"
  },
  "language_info": {
   "codemirror_mode": {
    "name": "ipython",
    "version": 3
   },
   "file_extension": ".py",
   "mimetype": "text/x-python",
   "name": "python",
   "nbconvert_exporter": "python",
   "pygments_lexer": "ipython3",
   "version": "3.7.7"
  }
 },
 "nbformat": 4,
 "nbformat_minor": 4
}
