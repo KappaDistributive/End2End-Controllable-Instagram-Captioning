{
 "cells": [
  {
   "cell_type": "markdown",
   "metadata": {},
   "source": [
    "### SUMMARY\n",
    "for cleaned full captions dataset, do clustering on their hashtags"
   ]
  },
  {
   "cell_type": "code",
   "execution_count": 1,
   "metadata": {},
   "outputs": [],
   "source": [
    "import os\n",
    "import json\n",
    "\n",
    "import numpy as np\n",
    "import pandas as pd\n",
    "import matplotlib.pyplot as plt\n",
    "\n",
    "%matplotlib inline\n",
    "%load_ext autoreload\n",
    "%autoreload 2"
   ]
  },
  {
   "cell_type": "code",
   "execution_count": 2,
   "metadata": {},
   "outputs": [],
   "source": [
    "HASHTAG_DIR = '/media/alex/Project/MadeWithML_Incubator/data/instagram/json'\n",
    "HASHTAG_JSONS = ['insta-hashtag-test1.json', 'insta-hashtag-test2.json', 'insta-hashtag-train.json']\n",
    "INPUT_JSON = './ig_json/full_clean.json'\n",
    "\n",
    "assert os.path.isdir(HASHTAG_DIR)"
   ]
  },
  {
   "cell_type": "markdown",
   "metadata": {},
   "source": [
    "### 1. Build Hashtag Mapping"
   ]
  },
  {
   "cell_type": "code",
   "execution_count": 10,
   "metadata": {},
   "outputs": [],
   "source": [
    "def read_json(json_path):\n",
    "    assert os.path.isfile(json_path)\n",
    "    with open(json_path, 'r') as f:\n",
    "        data = json.load(f)\n",
    "    return data\n",
    "\n",
    "\n",
    "def create_hashtag_map(json_path):    \n",
    "    hashtag_data = read_json(json_path)\n",
    "    \n",
    "    hashtag_map = dict()\n",
    "    for usr_key, hist_dict in hashtag_data.items():\n",
    "        for post_key, post_dict in hist_dict.items():\n",
    "            id_key = f'{usr_key}_@_{post_key}'\n",
    "            tags = post_dict['tags']\n",
    "            hashtag_map[id_key] = tags\n",
    "    return hashtag_map"
   ]
  },
  {
   "cell_type": "code",
   "execution_count": 15,
   "metadata": {},
   "outputs": [
    {
     "name": "stdout",
     "output_type": "stream",
     "text": [
      "processed: /media/alex/Project/MadeWithML_Incubator/data/instagram/json/insta-hashtag-test1.json\n",
      "processed: /media/alex/Project/MadeWithML_Incubator/data/instagram/json/insta-hashtag-test2.json\n",
      "processed: /media/alex/Project/MadeWithML_Incubator/data/instagram/json/insta-hashtag-train.json\n"
     ]
    }
   ],
   "source": [
    "hashtag_map = dict()\n",
    "for hashtag_fn in HASHTAG_JSONS:\n",
    "    json_path = f'{HASHTAG_DIR}/{hashtag_fn}'\n",
    "    tmp_map = create_hashtag_map(json_path)\n",
    "    hashtag_map.update(tmp_map)\n",
    "    print(f'processed: {json_path}')"
   ]
  },
  {
   "cell_type": "markdown",
   "metadata": {},
   "source": [
    "### 2. Compare with Input Data"
   ]
  },
  {
   "cell_type": "code",
   "execution_count": 22,
   "metadata": {},
   "outputs": [
    {
     "data": {
      "text/plain": [
       "469148"
      ]
     },
     "execution_count": 22,
     "metadata": {},
     "output_type": "execute_result"
    }
   ],
   "source": [
    "input_data = read_json(INPUT_JSON)\n",
    "\n",
    "input_map = dict()\n",
    "for caption_dict in input_data['images']:\n",
    "    id_key = caption_dict['filename']\n",
    "    captions = caption_dict['sentences'][0]['tokens']\n",
    "    input_map[id_key] = captions\n",
    "len(input_map)"
   ]
  },
  {
   "cell_type": "code",
   "execution_count": 23,
   "metadata": {},
   "outputs": [
    {
     "name": "stdout",
     "output_type": "stream",
     "text": [
      "total input: 469148\n",
      "miss hashtag: 398385\n"
     ]
    }
   ],
   "source": [
    "miss = 0\n",
    "for id_key, captions in input_map.items():\n",
    "    if id_key not in hashtag_map:\n",
    "        miss += 1\n",
    "\n",
    "print(f'total input: {len(input_map)}')\n",
    "print(f'miss hashtag: {miss}')"
   ]
  },
  {
   "cell_type": "markdown",
   "metadata": {},
   "source": [
    "### 3. Conclusion\n",
    "**A lot of input captions have hashtag missing. Not suggest to do clustering based on hashtags**"
   ]
  },
  {
   "cell_type": "code",
   "execution_count": null,
   "metadata": {},
   "outputs": [],
   "source": []
  }
 ],
 "metadata": {
  "kernelspec": {
   "display_name": "Python 3",
   "language": "python",
   "name": "python3"
  },
  "language_info": {
   "codemirror_mode": {
    "name": "ipython",
    "version": 3
   },
   "file_extension": ".py",
   "mimetype": "text/x-python",
   "name": "python",
   "nbconvert_exporter": "python",
   "pygments_lexer": "ipython3",
   "version": "3.7.7"
  }
 },
 "nbformat": 4,
 "nbformat_minor": 4
}
