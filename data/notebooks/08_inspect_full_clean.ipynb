{
 "cells": [
  {
   "cell_type": "code",
   "execution_count": 2,
   "metadata": {},
   "outputs": [],
   "source": [
    "import os\n",
    "import re\n",
    "import json\n",
    "\n",
    "import numpy as np\n",
    "import pandas as pd\n",
    "import matplotlib.pyplot as plt\n",
    "\n",
    "%matplotlib inline\n",
    "%load_ext autoreload\n",
    "%autoreload 2"
   ]
  },
  {
   "cell_type": "code",
   "execution_count": 3,
   "metadata": {},
   "outputs": [],
   "source": [
    "JSON_PATH = '../ig_json/full_clean.json'\n",
    "\n",
    "with open(JSON_PATH, 'r') as f:\n",
    "    data = json.load(f)"
   ]
  },
  {
   "cell_type": "code",
   "execution_count": null,
   "metadata": {},
   "outputs": [],
   "source": [
    "def capture_hashtag(text):\n",
    "    pattern = re.findall(r'#[\\S]+', text)\n",
    "    if len(pattern) != 0:\n",
    "        return pattern\n",
    "    else:\n",
    "        return None"
   ]
  },
  {
   "cell_type": "code",
   "execution_count": null,
   "metadata": {},
   "outputs": [],
   "source": [
    "hashtag_cnt = 0\n",
    "hashtag_set = Counter()\n",
    "instance_n = 100\n",
    "\n",
    "for _, caption in captions.items():\n",
    "    hashtags = capture_hashtag(caption)\n",
    "    \n",
    "    if hashtags is not None:    \n",
    "        hashtag_set.update(hashtags)\n",
    "        \n",
    "        hashtag_cnt += 1\n",
    "        if instance_n != 0:\n",
    "            print(caption)\n",
    "            instance_n -= 1\n",
    "\n",
    "print(f'\\ncaption with hashtag: {hashtag_cnt} ({len(captions)})')"
   ]
  }
 ],
 "metadata": {
  "kernelspec": {
   "display_name": "Python 3",
   "language": "python",
   "name": "python3"
  },
  "language_info": {
   "codemirror_mode": {
    "name": "ipython",
    "version": 3
   },
   "file_extension": ".py",
   "mimetype": "text/x-python",
   "name": "python",
   "nbconvert_exporter": "python",
   "pygments_lexer": "ipython3",
   "version": "3.7.7"
  }
 },
 "nbformat": 4,
 "nbformat_minor": 4
}
